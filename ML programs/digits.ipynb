{
 "cells": [
  {
   "cell_type": "code",
   "execution_count": 9,
   "id": "d987ca3e",
   "metadata": {},
   "outputs": [
    {
     "name": "stdout",
     "output_type": "stream",
     "text": [
      "enter a number09879\n"
     ]
    },
    {
     "data": {
      "text/plain": [
       "99870"
      ]
     },
     "execution_count": 9,
     "metadata": {},
     "output_type": "execute_result"
    }
   ],
   "source": [
    "number = str(input(\"enter a number\"))\n",
    "digits = [int(digit) for digit in number]\n",
    "digits.sort(reverse=True)\n",
    "max_number=int(''.join(map(str,digits)))\n",
    "max_number"
   ]
  },
  {
   "cell_type": "code",
   "execution_count": null,
   "id": "27b78592",
   "metadata": {},
   "outputs": [],
   "source": []
  },
  {
   "cell_type": "code",
   "execution_count": null,
   "id": "5971f36b",
   "metadata": {},
   "outputs": [],
   "source": []
  }
 ],
 "metadata": {
  "kernelspec": {
   "display_name": "Python 3 (ipykernel)",
   "language": "python",
   "name": "python3"
  },
  "language_info": {
   "codemirror_mode": {
    "name": "ipython",
    "version": 3
   },
   "file_extension": ".py",
   "mimetype": "text/x-python",
   "name": "python",
   "nbconvert_exporter": "python",
   "pygments_lexer": "ipython3",
   "version": "3.10.9"
  }
 },
 "nbformat": 4,
 "nbformat_minor": 5
}
